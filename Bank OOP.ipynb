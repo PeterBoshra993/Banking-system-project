{
 "cells": [
  {
   "cell_type": "markdown",
   "metadata": {},
   "source": [
    "Banking System using OOP \n",
    "\n",
    "- parent Class: User \n",
    "\tHolds details about an user \n",
    "\thas a function to show user details \n",
    "\n",
    "- Child Class: Bank \n",
    "\n",
    "Stores details about the account balance\n",
    "\n",
    "Stores details about the amount \n",
    "\n",
    "Allows for deposits, withdraw, view_balance \n",
    "\n",
    "- Create Main fuction \n",
    "\n",
    "ask from user  to enter name,age, gender\n",
    "\n",
    "print account created successfuly!\n",
    "\n",
    "then enter \n",
    "\n",
    "1 to show all details account \n",
    "\n",
    "2 to show account balance \n",
    "\n",
    "3 to withdraw \n",
    "\n",
    "4 to deposit \n",
    "\n",
    "0 to exit from the system \n",
    "\n",
    ">>>>> program will running untill user enter zero \n",
    "\n",
    "- validate all data using exception handling \n",
    "\n",
    "1- update classes to get from user ( ID, password).\n",
    "\n",
    "2- for each operation ask from user to enter his password and make operation only when password is right.\n",
    "\n",
    "3- add option to signout (not exit) then sign in with another account information."
   ]
  },
  {
   "cell_type": "code",
   "execution_count": 1,
   "metadata": {},
   "outputs": [],
   "source": [
    "# - parent Class: User \n",
    "#   - Holds details about an user \n",
    "#   - has a function to show user details \n",
    "class User:\n",
    "    \"\"\"This class will holds users' infos\"\"\"\n",
    "    def __init__(self, age,name, gender):\n",
    "        self.name = name\n",
    "        self.age = age\n",
    "#         self.nationality = nationality\n",
    "#         self.Id = Id\n",
    "        self.gender = gender\n",
    "#         self.balance = balance\n",
    "    def user_det(self):\n",
    "        print(\"User details: \\n\")\n",
    "        print(\"Name: \", self.name)\n",
    "        print(\"Age: \", self.age)\n",
    "        print(\"Gender: \", self.gender)\n",
    "#         print(\"ID: \",self.Id)\n",
    "#         print(\"Nationality: \", self.nationality)\n",
    "#         print(\"Current balance: \", self.balance)"
   ]
  },
  {
   "cell_type": "code",
   "execution_count": 2,
   "metadata": {},
   "outputs": [
    {
     "name": "stdout",
     "output_type": "stream",
     "text": [
      "User details: \n",
      "\n",
      "Name:  Peter\n",
      "Age:  19\n",
      "Gender:  male\n"
     ]
    }
   ],
   "source": [
    "new_u = User(19, \"Peter\", \"male\")\n",
    "new_u.user_det()"
   ]
  },
  {
   "cell_type": "code",
   "execution_count": 3,
   "metadata": {},
   "outputs": [],
   "source": [
    "# - Child Class: Bank \n",
    "#   - Stores details about the account balance\n",
    "#   - Stores details about the amount \n",
    "#   - Allows for deposits, withdraw, view_balance \n",
    "class Bank(User):\n",
    "    def __init__(self, age, name, gender):\n",
    "        super().__init__(age, name, gender)\n",
    "        self.balance = 0\n",
    "#     def bal(self):\n",
    "#         print(\"Hello \"+self.name + \", your balance is \" +self.balance)\n",
    "    def dep(self, deposit=0):\n",
    "        self.deposit = deposit\n",
    "        self.balance = self.deposit + self.balance\n",
    "        return \"Your deposit is {} and currently your new balance is {}\".format(self.deposit, self.balance)\n",
    "    def withdr(self, withdraw=0):\n",
    "        self.withdraw = withdraw\n",
    "        if self.withdraw > self.balance:\n",
    "            print(\"Insufficient balance\")\n",
    "            print(\" Your current balance is: \" , self.balance)\n",
    "        else:\n",
    "            self.balance = self.balance - self.withdraw\n",
    "            return \"Your withdraw amount is {} and currently your balance is {}\".format(self.withdraw, self.balance)"
   ]
  },
  {
   "cell_type": "code",
   "execution_count": 4,
   "metadata": {},
   "outputs": [
    {
     "data": {
      "text/plain": [
       "'Your deposit is 500 and currently your new balance is 500'"
      ]
     },
     "execution_count": 4,
     "metadata": {},
     "output_type": "execute_result"
    }
   ],
   "source": [
    "u_b = Bank(19, \"Peter\", \"male\")\n",
    "# new_u_b.bal()\n",
    "u_b.dep(500)"
   ]
  },
  {
   "cell_type": "code",
   "execution_count": 5,
   "metadata": {},
   "outputs": [
    {
     "data": {
      "text/plain": [
       "'Your withdraw amount is 400 and currently your balance is 100'"
      ]
     },
     "execution_count": 5,
     "metadata": {},
     "output_type": "execute_result"
    }
   ],
   "source": [
    "u_b.withdr(400)"
   ]
  },
  {
   "cell_type": "code",
   "execution_count": 6,
   "metadata": {},
   "outputs": [
    {
     "name": "stdout",
     "output_type": "stream",
     "text": [
      "Insufficient balance\n",
      " Your current balance is:  100\n"
     ]
    }
   ],
   "source": [
    "u_b.withdr(400)"
   ]
  },
  {
   "cell_type": "markdown",
   "metadata": {},
   "source": [
    "- Create Main fuction \n",
    "\t- ask from user  to enter name,age, gender\n",
    "\t- print account created successfuly!\n",
    "\t- then enter \n",
    "\t1. to show all details account \n",
    "\t2. to show account balance \n",
    "\t3. to withdraw \n",
    "\t4. to deposit \n",
    "\t0. to exit from the system "
   ]
  },
  {
   "cell_type": "code",
   "execution_count": 25,
   "metadata": {},
   "outputs": [],
   "source": [
    "def main():\n",
    "    while True:\n",
    "        print(\"Let's make a new account\")\n",
    "        name   = input(\"Please enter your name: \").lower()\n",
    "        gender = input(\"Please enter your gender female or male? Please Type M or F \").lower()\n",
    "        try:\n",
    "            if gender == \"m\" or gender == \"f\":\n",
    "                age    = int(input(\"Please enter your age: \"))\n",
    "                try:\n",
    "                    if age >= 18: \n",
    "                        password = int(input('4-digit number: '))\n",
    "                        if password in range(1000, 10000):\n",
    "                            print(\"You successfully create an account !\")\n",
    "                            break\n",
    "                        else:\n",
    "                            print(\"sorry this is not a right number\")\n",
    "                            print(\"\")\n",
    "                    else:\n",
    "                        print(\"You are not able to make a bank account.\")\n",
    "                        print(\"\")\n",
    "#         break\n",
    "                except:\n",
    "                    print(\"You are not able to make a bank account.\")\n",
    "                    pass\n",
    "            else:\n",
    "                print(\"Sorry wrong input try re-run the prog again\")\n",
    "                print(\"\")\n",
    "        except:\n",
    "            print(\"Sorry wrong input try re-run the prog again\")\n",
    "            pass\n",
    "\n",
    "\n",
    "\n",
    "#         try:\n",
    "#             if password = 18: \n",
    "#                 print(\"You successfully create an account !\")\n",
    "#                 break\n",
    "#             else:\n",
    "#                 print(\"You are not able to make a bank account.\")\n",
    "#                 print(\"\")\n",
    "# #         break\n",
    "#         except:\n",
    "#             print(\"You are not able to make a bank account.\")\n",
    "\n",
    "#             print(\"That's not a valid option!\")\n",
    "#     Id     = int(input(\"Please enter your Id: \"))\n",
    "#     nationality = input(\"Please tell us what is your nationality? \").lower\n",
    "    \n",
    "#     print(\"You successfully create an account !\")    "
   ]
  },
  {
   "cell_type": "code",
   "execution_count": 29,
   "metadata": {},
   "outputs": [
    {
     "name": "stdout",
     "output_type": "stream",
     "text": [
      "Let's make a new account\n",
      "Please enter your name: Peter Boshra\n",
      "Please enter your gender female or male? Please Type M or F 1\n",
      "Sorry wrong input try re-run the prog again\n",
      "\n",
      "Let's make a new account\n",
      "Please enter your name: Peter Boshra\n",
      "Please enter your gender female or male? Please Type M or F M\n",
      "Please enter your age: 16\n",
      "You are not able to make a bank account.\n",
      "\n",
      "Let's make a new account\n",
      "Please enter your name: Peter Boshra\n",
      "Please enter your gender female or male? Please Type M or F M\n",
      "Please enter your age: 19\n",
      "4-digit number: 12345\n",
      "sorry this is not a right number\n",
      "\n",
      "Let's make a new account\n",
      "Please enter your name: Peter Boshra\n",
      "Please enter your gender female or male? Please Type M or F M\n",
      "Please enter your age: 19\n",
      "4-digit number: 1234\n",
      "You successfully create an account !\n"
     ]
    }
   ],
   "source": [
    "if __name__ == \"__main__\":\n",
    "    main()"
   ]
  },
  {
   "cell_type": "code",
   "execution_count": null,
   "metadata": {},
   "outputs": [],
   "source": []
  },
  {
   "cell_type": "code",
   "execution_count": null,
   "metadata": {},
   "outputs": [],
   "source": []
  }
 ],
 "metadata": {
  "kernelspec": {
   "display_name": "Python 3",
   "language": "python",
   "name": "python3"
  },
  "language_info": {
   "codemirror_mode": {
    "name": "ipython",
    "version": 3
   },
   "file_extension": ".py",
   "mimetype": "text/x-python",
   "name": "python",
   "nbconvert_exporter": "python",
   "pygments_lexer": "ipython3",
   "version": "3.8.5"
  }
 },
 "nbformat": 4,
 "nbformat_minor": 4
}
